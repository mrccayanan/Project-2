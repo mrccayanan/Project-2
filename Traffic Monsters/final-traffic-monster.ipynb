{
 "cells": [
  {
   "cell_type": "code",
   "execution_count": null,
   "metadata": {},
   "outputs": [],
   "source": [
    "%matplotlib inline\n",
    "# Dependencies and Setup\n",
    "import matplotlib.pyplot as plt\n",
    "import pandas as pd\n",
    "from sqlalchemy import create_engine\n",
    "import numpy as np\n",
    "import random\n",
    "import json\n",
    "import requests\n",
    "\n",
    "from config import api_key"
   ]
  },
  {
   "cell_type": "code",
   "execution_count": null,
   "metadata": {},
   "outputs": [],
   "source": [
    "#This is new AADT data from 2014 to 2017 with NAD83 coordinates############\n",
    "csv_path = \"2017_peak_hours_report_kdfactor.csv\"\n",
    "#PEAK HOUR VOLUME DATA Peak hour volume data consists of hourly volume relationships and data location. \n",
    "#The hourly volumes are expressed as the Annual Average Daily Traffic (AADT). \n",
    "\n",
    "# Read the CSV into a Pandas DataFrame\n",
    "aadt_df = pd.read_csv(csv_path)\n",
    "\n",
    "# Print the first five rows of data to the screen\n",
    "aadt_df.head()"
   ]
  },
  {
   "cell_type": "code",
   "execution_count": null,
   "metadata": {},
   "outputs": [],
   "source": [
    "# Create a reference the CSV file desired\n",
    "uber_lyft = \"SF_TRAFFIC_2016.csv\"\n",
    "'''PEAK HOUR VOLUME DATA Peak hour volume data consists of hourly volume relationships and data location. The hourly volumes are expressed as a percentage of the Annual Average Daily Traffic (AADT). The percentages are shown for both the AM and the PM peak periods. The principle data described here are the K factor, the D factor and their product (KD). The K factor is the percentage of AADT during the peak hour for both directions of travel. The D factor is the percentage of the peak hour travel in the peak direction. KD multiplied with the AADT gives the one way peak period directional flow rate or the design hourly volume (DHV). The design hourly volume is used for either Operational Analysis or Design Analysis. Refer to the 2016 Highway Capacity Manual, 6th Edition A Guide for Multimodal Mobility Analysis for more details.'''\n",
    "\n",
    "# Read the CSV into a Pandas DataFrame\n",
    "uber_lyft_df = pd.read_csv(uber_lyft)\n",
    "\n",
    "# Print the first five rows of data to the screen\n",
    "uber_lyft_df.head()"
   ]
  },
  {
   "cell_type": "code",
   "execution_count": null,
   "metadata": {},
   "outputs": [],
   "source": [
    "# Check to see if there are any rows with missing CALTRANS DATA\n",
    "aadt_df.dropna(how='any')  # clean up null values\n",
    "aadt_df.count()\n",
    "aadt_df.shape"
   ]
  },
  {
   "cell_type": "code",
   "execution_count": null,
   "metadata": {},
   "outputs": [],
   "source": [
    "# Check to see if there are any rows with missing UBER LYFT DATA\n",
    "uber_lyft_df.count()\n",
    "uber_lyft_df.shape"
   ]
  },
  {
   "cell_type": "code",
   "execution_count": null,
   "metadata": {},
   "outputs": [],
   "source": [
    "# Collect a list of traffic locations in CA\n",
    "columns = [\n",
    "\"Year\", \n",
    "\"District\",   # Caltrans has twelve transportation districts statewide. This abbreviation identifies the district in which the count station is located. \n",
    "\"Route\",   # The state highway route number. \n",
    "\"County\",  # County abbreviation used by Caltrans\n",
    "\"Postmile\", # The Post Mile is the mileage measured from the county line, or from the beginning of a route. Each postmile along a route in a county is a unique location on the state highway system. \n",
    "\"Descriptn\", # description for segment\n",
    "\"Back_AADT\", # Annual Average Daily Traffic (24hr - reverse commute)\n",
    "\"Ahead_AADT\", # Annual Average Daily Traffic (24hr - peak commute)\n",
    "\"Lat_S_or_W\", # NAD83 latitude for end node \n",
    "\"Lon_S_or_W\",  # NAD83 longitude for end node\n",
    "\"Lat_N_or_E\",  # NAD83 longitude for start node\n",
    "\"Lon_N_or_E\"  # NAD83 longitude for start node\n",
    "]"
   ]
  },
  {
   "cell_type": "code",
   "execution_count": null,
   "metadata": {},
   "outputs": [],
   "source": [
    "# Collect a list of traffic locations IN UBER & LYFT TRAFFIC DATA\n",
    "columns = [\n",
    "\"ID\",\n",
    "\"ModifiedTMC\",\n",
    "\"TOD\",\n",
    "\"YEAR\",\n",
    "\"CHAMP_LINK_COUNT\",\n",
    "\"PHF\",\n",
    "\"ALPHA\",\n",
    "\"BETA\",\n",
    "\"FT2\",\n",
    "\"LANES\",\n",
    "\"DISTANCE\",\n",
    "\"CAPACITY\",\n",
    "\"FFS\",\n",
    "\"INRIX_SPEED\",\n",
    "\"SPEED_20TH\",\n",
    "\"FF_TIME\",\n",
    "\"INRIX_TIME\",\n",
    "\"INRIX_VOL\",\n",
    "\"CHAMP_PCE\",\n",
    "\"CHAMP_VOL\",\n",
    "\"TNC_VOL\"\n",
    "\"TNC_PUDO\"   \n",
    "]\n",
    "\n",
    "# ID - a unique ID, which is a combination of the next two fields\n",
    "# ModifiedTMC\t- ID for the spatial unit of analysis, a directional section of roadway\n",
    "# TOD\t- Time-of-day: AM=6-9 AM, MD=9 AM-3:30 PM, PM=3:30-6:30 PM, EV=6:30 PM-3:00 AM, EA=3-6 AM\n",
    "# YEAR - The year, either 2010 or 2016\n",
    "# CHAMP_LINK_COUNT - The number of SF-CHAMP links that aggregate to this ModifiedTMC\n",
    "# PHF\t- Peak Hour Factor, the share of the total period volume that occurs in the highest 1-hour period\n",
    "# ALPHA - alpha term for use in VDF(volume-delay functions, the probability of Type I error in any hypothesis test–incorrectly rejecting the null hypothesis.)\n",
    "# BETA - beta term for use in VDF (volume-delay functions, the probability of Type II error in any hypothesis test–incorrectly failing to reject the null hypothesis)\n",
    "# AT - Area Type: 0=Regional Core, 1=Central Business Distritc, 2=Urban Business, 3=Urban\n",
    "# FT2 - Facility Type: 1-Freeway, Expressway or Ramp, 2=Major Arterial, 3=Minor Arterial, 4=Local or Collector\n",
    "# LANES - Number of lanes (can be non-integer due to averaging across SF-CHAMP links)\n",
    "# DISTANCE - distance in miles\n",
    "# CAPACITY - capacity in vehicles for the period as a whole\n",
    "# FFS\t- free flow speed\n",
    "# INRIX_SPEED\t- average speed, as measured by INRIX data\n",
    "# SPEED_20TH - 20th percentile speed, as measured by INRIX data\n",
    "# FF_TIME\t- free flow travel time\n",
    "# INRIX_TIME - average travel time, as measured by INRIX data\n",
    "# INRIX_VOL - implied volume\n",
    "# CHAMP_PCE - SF-CHAMP passenger car equivalents (PCEs)\n",
    "# CHAMP_VOL - SF-CHAMP volume (vehicles)\n",
    "# TNC_VOL\t- TNC volume(transportation network companies,uber, lyft)\n",
    "# TNC_PUDO - TNC pick-ups and drop-offs"
   ]
  },
  {
   "cell_type": "code",
   "execution_count": null,
   "metadata": {},
   "outputs": [],
   "source": [
    "# Create a group based on the routes and mile post in California\n",
    "aadt_group = aadt_df.groupby(['County', 'Route','Postmile','Year'])\n",
    "\n",
    "# look at count per location\n",
    "print(f\"aadt_group.count={aadt_group.count()}\")\n",
    "\n",
    "# Count how many times each location appears in our group, data is complete"
   ]
  },
  {
   "cell_type": "code",
   "execution_count": null,
   "metadata": {},
   "outputs": [],
   "source": [
    "# Create a scatter plot which compares PM PHV  to AM PHV for all highways\n",
    "aadt_df.plot(kind=\"scatter\", x=\"Back_AADT\", y=\"Ahead_AADT\", grid=True, figsize=(10,5),\n",
    "              title=\"STATE WIDE AADT DURING PEAK HOURS 2014 to 2017\")\n",
    "plt.show()\n",
    "# 28000 records of AADT with route and mile \n",
    "# Plot indicates head and back commute have same AADT. "
   ]
  },
  {
   "cell_type": "code",
   "execution_count": null,
   "metadata": {},
   "outputs": [],
   "source": [
    "uber_lyft_df.plot(kind=\"scatter\", x=\"TNC_PUDO\", y=\"TNC_VOL\", grid=True, figsize=(10,5),\n",
    "              title=\"Uber_Lyft Picups and dropoffs by volume\")\n",
    "plt.show()"
   ]
  },
  {
   "cell_type": "code",
   "execution_count": null,
   "metadata": {},
   "outputs": [],
   "source": [
    "uber_lyft_df.plot(kind=\"scatter\", x=\"INRIX_TIME\", y=\"INRIX_VOL\", grid=True, figsize=(10,5),\n",
    "              title=\"Time over volume\")\n",
    "plt.show()"
   ]
  },
  {
   "cell_type": "code",
   "execution_count": null,
   "metadata": {},
   "outputs": [],
   "source": [
    "uber_lyft_df.plot(kind=\"scatter\", x=\"FFS\", y=\"INRIX_SPEED\", grid=True, figsize=(10,5),\n",
    "              title=\"STATE WIDE PERCENTAGE OF AADT IN THE PEAK DIRECTION DURING PEAK HOURS IN AM OR PM\")\n",
    "plt.show()"
   ]
  },
  {
   "cell_type": "code",
   "execution_count": null,
   "metadata": {},
   "outputs": [],
   "source": [
    "#create summary \n",
    "County_sum = (aadt_df.groupby(\"County\")[\"Ahead_AADT\"].count())\n",
    "AM_max = (aadt_df.groupby(\"County\")[\"Ahead_AADT\"].max())\n",
    "AM_avg = (aadt_df.groupby(\"County\")[\"Ahead_AADT\"].mean())\n",
    "AM_min = (aadt_df.groupby(\"County\")[\"Ahead_AADT\"].min())\n",
    "ca_df = pd.DataFrame({'AM max PHV': AM_max, 'AM avg PHV': AM_avg, 'AM min PHV': AM_min })\n",
    "ca_df.head()"
   ]
  },
  {
   "cell_type": "code",
   "execution_count": null,
   "metadata": {},
   "outputs": [],
   "source": [
    "# Set x axis and tick locations\n",
    "x_axis = np.arange(len(ca_df))\n",
    "tick_locations = [value for value in x_axis]\n",
    "\n",
    "# Plot Data \n",
    "ca_df.plot(kind=\"line\", figsize=(10,5))\n",
    "\n",
    "# Set a title for the chart\n",
    "plt.title(\"CA County Peak Hourly Volumn\")\n",
    "plt.xlabel(\" Counties\")\n",
    "plt.ylabel(\" Volumn of Traffic in Morning\")\n",
    "\n",
    "#Add the legend.\n",
    "legend = plt.legend(loc = \"best\")\n",
    "legend.legendHandles[0]._sizes = [30]\n",
    "legend.legendHandles[1]._sizes = [30]\n",
    "legend.legendHandles[2]._sizes = [30]\n",
    "\n",
    "plt.show()\n",
    "plt.tight_layout()"
   ]
  },
  {
   "cell_type": "code",
   "execution_count": null,
   "metadata": {},
   "outputs": [],
   "source": [
    "# Create a list indicating where to write x labels and set figure size to adjust for space\n",
    "ca_df.plot(kind=\"line\", figsize=(10,5))\n",
    "plt.figure(figsize=(20,3))\n",
    "plt.xlabel(\" Route and Mile Post\")\n",
    "plt.ylabel(\" Volumn of Traffic in Morning\")\n",
    "plt.bar(x_axis, ca_df[\"AM_avg\"], color='r', alpha=0.5, align=\"center\")\n",
    "plt.xticks(tick_locations, ca_df[\"County\"], rotation=\"vertical\")\n",
    "plt.show()"
   ]
  },
  {
   "cell_type": "code",
   "execution_count": null,
   "metadata": {},
   "outputs": [],
   "source": [
    "# Create a list indicating where to write x labels and set figure size to adjust for space\n",
    "plt.figure(figsize=(20,3))\n",
    "plt.xlabel(\" Route and Mile Post\")\n",
    "plt.ylabel(\" Volumn of Traffic in Morning\")\n",
    "plt.bar(ca_df[\"County\"], ca_df[\"AM_avg\"], color='r', alpha=0.5, align=\"center\")\n",
    "plt.xticks(tick_locations, ca_df[\"County\"], rotation=\"vertical\")\n"
   ]
  },
  {
   "cell_type": "code",
   "execution_count": null,
   "metadata": {},
   "outputs": [],
   "source": [
    "uber_lyft_group = uber_lyft_df.groupby(['TNC_PUDO','TNC_VOL'])\n",
    "uber_lyft_group"
   ]
  },
  {
   "cell_type": "code",
   "execution_count": null,
   "metadata": {},
   "outputs": [],
   "source": [
    "uber_lyft_group = uber_lyft_df.groupby(['TNC_PUDO','TNC_VOL'])\n",
    "# gov_data_time = uber_lyft_df.groupby(['FF_TIME','INRIX_TIME'])\n",
    "# gov_data_volume = uber_lyft_df.groupby(['CHAMP_VOL','INRIX_VOL'])\n",
    "# gov_data_speed = uber_lyft_df.groupby(['FFS','INRIX_SPEED'])\n",
    "\n",
    "# traffic_sf_df = pd.DataFrame({'uber_lyft_group': [uber_lyft_group], 'gov_data_time': [gov_data_time], 'gov_data_speed': [gov_data_speed], 'gov_data_volume': [gov_data_volume] })\n",
    "\n",
    "# Set x axis and tick locations\n",
    "x_axis = np.arange(len(uber_lyft_group))\n",
    "tick_locations = [value for value in x_axis]\n",
    "\n",
    "# Plot Data \n",
    "uber_lyft_group.plot(kind=\"line\", figsize=(10,5))\n",
    "\n",
    "# Set a title for the chart\n",
    "plt.title(\"CA County Peak Hourly Volumn\")\n",
    "plt.xlabel(\" Counties\")\n",
    "plt.ylabel(\" Volumn of Traffic in Morning\")\n",
    "\n",
    "#Add the legend.\n",
    "legend = plt.legend(loc = \"best\")\n",
    "legend.legendHandles[0]._sizes = [30]\n",
    "legend.legendHandles[1]._sizes = [30]\n",
    "legend.legendHandles[2]._sizes = [30]\n",
    "\n",
    "plt.show()\n",
    "plt.tight_layout()"
   ]
  },
  {
   "cell_type": "code",
   "execution_count": null,
   "metadata": {
    "scrolled": true
   },
   "outputs": [],
   "source": [
    "# Create a list indicating where to write x labels and set figure size to adjust for space\n",
    "plt.figure(figsize=(20,3))\n",
    "plt.xlabel(\" Route and Mile Post\")\n",
    "plt.ylabel(\" Volumn of Traffic in Morning\")\n",
    "plt.bar(ca_df[\"County\"], ca_df[\"AM_avg\"], color='r', alpha=0.5, align=\"center\")\n",
    "plt.xticks(tick_locations, ca_df[\"County\"], rotation=\"vertical\")\n",
    "plt.show()"
   ]
  },
  {
   "cell_type": "code",
   "execution_count": null,
   "metadata": {},
   "outputs": [],
   "source": [
    "PM_PHV =(aadt.df[\"PM_WAY_PHV\"].max())\n",
    "PM_PHV, \" VEHICLES LEAVE SF ON HWY 280 IN THE EVENING COMMUTE\""
   ]
  },
  {
   "cell_type": "code",
   "execution_count": null,
   "metadata": {},
   "outputs": [],
   "source": [
    "AM_PHV =(aadt2_df[\"AM_WAY_PHV\"].max())\n",
    "AM_PHV, \" VEHICLES COME TO SF USING HWY 280 DURING MORNING COMMUTE\""
   ]
  },
  {
   "cell_type": "code",
   "execution_count": null,
   "metadata": {},
   "outputs": [],
   "source": [
    "PM_PHV =(aadt2_df[\"PM_WAY_PHV\"].max())\n",
    "\"HIGHEST TRAFFIC ON ROUTE 280 IN THE EVENING IS \", PM_PHV"
   ]
  },
  {
   "cell_type": "code",
   "execution_count": null,
   "metadata": {
    "scrolled": true
   },
   "outputs": [],
   "source": [
    "aadt3_df = aadt_df.loc[aadt_df[\"Country\"] == \"SF\", columns]\n",
    "aadt3_df.head()\n"
   ]
  },
  {
   "cell_type": "code",
   "execution_count": null,
   "metadata": {},
   "outputs": [],
   "source": [
    "# Set x axis and tick locations\n",
    "x_axis = np.arange(len(aadt3_df))\n",
    "tick_locations = [value for value in x_axis]"
   ]
  },
  {
   "cell_type": "code",
   "execution_count": null,
   "metadata": {
    "scrolled": true
   },
   "outputs": [],
   "source": [
    "# Create a list indicating where to write x labels and set figure size to adjust for space\n",
    "plt.figure(figsize=(20,10))\n",
    "plt.xlabel(\" Route and Mile Post\")\n",
    "plt.ylabel(\" Volumn of Traffic in Morning (vehicles)\")\n",
    "plt.bar(x_axis, aadt3_df[\"AM_WAY_PHV\"], color='r', alpha=.5, align=\"center\")\n",
    "plt.xticks(tick_locations, aadt3_df[\"RTE\"], rotation=\"vertical\")\n",
    "\n",
    "# Create a list indicating where to write x labels and set figure size to adjust for space\n",
    "plt.figure(figsize=(20,10))\n",
    "plt.xlabel(\" Route and Mile Post\")\n",
    "plt.ylabel(\" Volumn of Traffic in Evening (vehicles)\")\n",
    "plt.bar(x_axis, aadt3_df[\"PM_WAY_PHV\"], color='g', alpha=.5, align=\"center\")\n",
    "plt.xticks(tick_locations, aadt3_df[\"RTE\"], rotation=\"vertical\")\n",
    "\n",
    "plt.show()\n"
   ]
  },
  {
   "cell_type": "code",
   "execution_count": null,
   "metadata": {
    "scrolled": true
   },
   "outputs": [],
   "source": [
    "# The maximum x value for LA data only\n",
    "x_limit = 20000000\n",
    "y_limit = 20000000\n",
    "\n",
    "# Tells matplotlib that we want to make a scatter plot\n",
    "# The size of each point on our plot is determined by percent of AADT at peak hour\n",
    "\n",
    "plt.xlabel(\" % AADT in evening commute\")\n",
    "plt.ylabel(\" % AADT in morning commute\")\n",
    "\n",
    "plt.scatter(aadt3_df[\"PM_KD_FACTOR\"], aadt3_df[\"AM_KD_FACTOR\"],  marker=\"o\", facecolors=\"gold\", edgecolors=\"black\",\n",
    "            s=aadt3_df[\"AM_WAY_PHV\"]/100, alpha=0.5)\n",
    "plt.show"
   ]
  },
  {
   "cell_type": "code",
   "execution_count": null,
   "metadata": {},
   "outputs": [],
   "source": [
    "# The compare traffic volumn LA and SF\n",
    "x_limit = 200000000\n",
    "y_limit = 2000000\n",
    "plt.xlabel(\" volumn of traffic in peak hour of evening commute\")\n",
    "plt.ylabel(\" volumn of traffic in peak hour of morning commute\")\n",
    "\n",
    "# LA\n",
    "# The size of each point on our plot is determined by their x value\n",
    "plt.scatter(aadt3_df[\"PM_WAY_PHV\"], aadt3_df[\"AM_WAY_PHV\"], marker=\"o\", facecolors=\"gold\", edgecolors=\"black\",\n",
    "            s=aadt3_df[\"PM_KD_FACTOR\"]*100, alpha=0.5)\n",
    "# SF\n",
    "# The size of each point on our plot is determined by their x value\n",
    "plt.scatter(aadt2_df[\"PM_WAY_PHV\"], aadt2_df[\"AM_WAY_PHV\"], marker=\"o\", facecolors=\"blue\", edgecolors=\"black\",\n",
    "            s=aadt2_df[\"PM_KD_FACTOR\"]*100, alpha=0.5)\n",
    "\n",
    "# LA has higher volumn of traffic\n",
    "# LA has higher percentage of traffic traveling during commute hours\n",
    "plt.show"
   ]
  },
  {
   "cell_type": "code",
   "execution_count": null,
   "metadata": {},
   "outputs": [],
   "source": [
    "####################EXTRACT WEATHER DATA#####################################"
   ]
  },
  {
   "cell_type": "code",
   "execution_count": null,
   "metadata": {},
   "outputs": [],
   "source": [
    "# Save config informationfor open weather API\n",
    "url = \"http://api.openweathermap.org/data/2.5/weather?\"\n",
    "city1 = \"San Francisco\"\n",
    "\n",
    "# Build query URL\n",
    "query_url = url + \"appid=\" + api_key + \"&q=\" + city1"
   ]
  },
  {
   "cell_type": "code",
   "execution_count": null,
   "metadata": {},
   "outputs": [],
   "source": [
    "# Get weather data for SF from OPEN WEATHER API\n",
    "weather_response = requests.get(query_url)\n",
    "weather_json = weather_response.json()\n",
    "\n",
    "#Get the temperature from the response\n",
    "print(f\"The weather API responded with: {weather_json}.\")"
   ]
  },
  {
   "cell_type": "code",
   "execution_count": null,
   "metadata": {},
   "outputs": [],
   "source": [
    "# Print the output of the JSON\n",
    "print(json.dumps(weather_json, indent=4, sort_keys=True))"
   ]
  },
  {
   "cell_type": "code",
   "execution_count": null,
   "metadata": {},
   "outputs": [],
   "source": [
    "# Save config information for LA   from OPEN WEATHER API\n",
    "url = \"http://api.openweathermap.org/data/2.5/weather?\"\n",
    "city2 = \"Los Angeles\"\n",
    "\n",
    "# Build query URL\n",
    "query_url = url + \"appid=\" + api_key + \"&q=\" + city2"
   ]
  },
  {
   "cell_type": "code",
   "execution_count": null,
   "metadata": {},
   "outputs": [],
   "source": [
    "# Get weather data for LA\n",
    "weather_response = requests.get(query_url)\n",
    "weather_json = weather_response.json()\n",
    "\n",
    "# Get the temperature from the response\n",
    "print(f\"The weather API responded with: {weather_json}.\")"
   ]
  },
  {
   "cell_type": "code",
   "execution_count": null,
   "metadata": {},
   "outputs": [],
   "source": [
    "# Print the output of the JSON\n",
    "print(json.dumps(weather_json, indent=4, sort_keys=True))"
   ]
  },
  {
   "cell_type": "code",
   "execution_count": null,
   "metadata": {},
   "outputs": [],
   "source": [
    "# Street_Pavement_Condition Legend\n",
    "# Field Name Data / Type / Definition Notes (optional)\n",
    "#   \"CNN\"           Number    CNN of street segment or intersection location\n",
    "# \"STREET\"          Text / VarChar      Street name\n",
    "# \"PCI_Score\"       Number    Paving Condition Index Score\n",
    "# \"From_Street\"     Text      Cross street 1\n",
    "# \"To_Street\"       Text      Cross street 2\n",
    "# \"PCI_Change_Date\" Date      Date condition score last updated\n",
    "# Street_Accepted_For_Maintenance     Yes/No      Street accepted for maintenance by Public Works\n",
    "# \"Functional_Class\" Text\n",
    "# The functional class of the street segment:\n",
    "# Arterial, Collector or Residential."
   ]
  },
  {
   "cell_type": "code",
   "execution_count": null,
   "metadata": {},
   "outputs": [],
   "source": [
    "# Column Name      Description                 Type\n",
    "#   \"CNN\"   unique street centerline ID       Number\n",
    "# \"STREET\"  street name                       Plain Text / VarChar\n",
    "# \"ST_TYPE\" street type                       Plain Text\n",
    "# \"NHOOD\"   neighborhood the street segment is in / Plain Text  \n",
    "# \"CNNTEXT\" CNN as a text field              Plain Text              \n",
    "# \"shape\"                                    Line-String"
   ]
  },
  {
   "cell_type": "code",
   "execution_count": null,
   "metadata": {},
   "outputs": [],
   "source": [
    "# Extract CSVs into DataFrames"
   ]
  },
  {
   "cell_type": "code",
   "execution_count": null,
   "metadata": {},
   "outputs": [],
   "source": [
    "# Extract Street_Pavement_Condition.csv into DataFrames (City Infrastructure)\n",
    "SPC_file = \"Street_Conditions_2017.csv\"\n",
    "Street_Condition_df = pd.read_csv(SPC_file)\n",
    "Street_Condition_df.head(10)"
   ]
  },
  {
   "cell_type": "code",
   "execution_count": null,
   "metadata": {},
   "outputs": [],
   "source": [
    "# Extract Rush_Hour_Routes.csv into Dataframes\n",
    "RH_file = \"Rush_Hour_Routes.csv\"\n",
    "Rush_Hour_Routes_df = pd.read_csv(RH_file)\n",
    "Rush_Hour_Routes_df.head(10)"
   ]
  },
  {
   "cell_type": "code",
   "execution_count": null,
   "metadata": {},
   "outputs": [],
   "source": [
    "# Transform Street_Condition_df DataFrame"
   ]
  },
  {
   "cell_type": "code",
   "execution_count": null,
   "metadata": {},
   "outputs": [],
   "source": [
    "# Create a filtered dataframe from specific columns\n",
    "SPC_cols = [\"STREET\",\"CNN\",\"Street_Accepted_For_Maintenance\"]\n",
    "SPC_transformed = Street_Condition_df[SPC_cols].copy()\n",
    "\n",
    "# Rename the column headers\n",
    "SPC_transformed = SPC_transformed.rename(columns={\"STREET\":\"Street\",\n",
    "                                                  \"CNN\":\"Cnn\",\n",
    "                                                  \"Street_Accepted_For_Maintenance\":\"Street_Maintenance\"})\n",
    "\n",
    "# Clean the data by dropping duplicates and setting the index\n",
    "SPC_transformed.drop_duplicates(\"Cnn\", inplace=True)\n",
    "SPC_transformed.set_index(\"Cnn\", inplace=True)\n",
    "\n",
    "SPC_transformed.head()"
   ]
  },
  {
   "cell_type": "code",
   "execution_count": null,
   "metadata": {},
   "outputs": [],
   "source": [
    "# Transform Rush_Hour_Routes_df Dataframe"
   ]
  },
  {
   "cell_type": "code",
   "execution_count": null,
   "metadata": {},
   "outputs": [],
   "source": [
    "# Create a filtered dataframe from specific columns\n",
    "RH_Routes_cols = [\"Street_name\",\"CNN\", \"NHOOD\"]\n",
    "RH_Routes_transformed = Rush_Hour_Routes_df[RH_Routes_cols].copy()\n",
    "\n",
    "# Rename the column headers\n",
    "RH_Routes_transformed = RH_Routes_transformed.rename(columns={\"Street_name\":\"Street\",\n",
    "                                               \"CNN\":\"Cnn\",\n",
    "                                               \"NHOOD\":\"Neighborhood\"}) \n",
    "# Set Index\n",
    "RH_Routes_transformed.set_index(\"Cnn\", inplace=True)\n",
    "RH_Routes_transformed.head()"
   ]
  },
  {
   "cell_type": "code",
   "execution_count": null,
   "metadata": {},
   "outputs": [],
   "source": [
    "# Create database , table schema , queries via PostgresSQL / Create Database connection "
   ]
  },
  {
   "cell_type": "code",
   "execution_count": null,
   "metadata": {},
   "outputs": [],
   "source": [
    "connection_string = \"postgres:Logan215@localhost:5432/Traffic_db\"\n",
    "engine = create_engine(f'postgresql://{connection_string}')"
   ]
  },
  {
   "cell_type": "code",
   "execution_count": null,
   "metadata": {},
   "outputs": [],
   "source": [
    "# Confirm tables (Street_Condition) & (Rush_Hour)\n",
    "engine.table_names()"
   ]
  },
  {
   "cell_type": "code",
   "execution_count": null,
   "metadata": {},
   "outputs": [],
   "source": [
    "# Load DataFrames into PostgresSQL database"
   ]
  },
  {
   "cell_type": "code",
   "execution_count": null,
   "metadata": {},
   "outputs": [],
   "source": [
    "SPC_transformed.to_sql(name='Street_Condition1', con=engine, if_exists='append', index=True)"
   ]
  },
  {
   "cell_type": "code",
   "execution_count": null,
   "metadata": {},
   "outputs": [],
   "source": [
    "RH_Routes_transformed.to_sql(name='Rush_Hour_Routes1', con=engine, if_exists='append', index=True)"
   ]
  },
  {
   "cell_type": "code",
   "execution_count": null,
   "metadata": {},
   "outputs": [],
   "source": []
  }
 ],
 "metadata": {
  "kernelspec": {
   "display_name": "Python 3",
   "language": "python",
   "name": "python3"
  },
  "language_info": {
   "codemirror_mode": {
    "name": "ipython",
    "version": 3
   },
   "file_extension": ".py",
   "mimetype": "text/x-python",
   "name": "python",
   "nbconvert_exporter": "python",
   "pygments_lexer": "ipython3",
   "version": "3.7.3"
  }
 },
 "nbformat": 4,
 "nbformat_minor": 2
}
